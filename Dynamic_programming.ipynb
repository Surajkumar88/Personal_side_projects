{
    "cells": [
        {
            "cell_type": "code",
            "execution_count": 16,
            "metadata": {},
            "outputs": [],
            "source": "#importing time module\nimport time"
        },
        {
            "cell_type": "code",
            "execution_count": 24,
            "metadata": {},
            "outputs": [],
            "source": "#Defining a function that takes function name and 'n' as argument and prints the output and \n#the time taken by the function to execute\ndef time_func(func_name, n):\n    start_time = time.time()\n    number = func_name(n)\n    print(\"The {}th number in the Fibonaaci series is {}\".format(n,number))\n    print(\"The time taken by the program to run was %s seconds\"%(time.time() - start_time))"
        },
        {
            "cell_type": "markdown",
            "metadata": {},
            "source": "<h2>Simple fibonacci program</h2>"
        },
        {
            "cell_type": "code",
            "execution_count": 20,
            "metadata": {},
            "outputs": [],
            "source": "#A simple function to output Fibonacci Serires\ndef fib(n):\n    if n==1 or n==2:\n        result = 1\n    else:\n        result = fib(n-1) + fib(n-2)\n    #return(result)\n    return result"
        },
        {
            "cell_type": "code",
            "execution_count": 40,
            "metadata": {},
            "outputs": [
                {
                    "name": "stdout",
                    "output_type": "stream",
                    "text": "The 30th number in the Fibonaaci series is 832040\nThe time taken by the program to run was 0.3678090572357178 seconds\n"
                }
            ],
            "source": "time_func(fib, 30)"
        },
        {
            "cell_type": "markdown",
            "metadata": {},
            "source": "<h2>Memoized Solution</h2>"
        },
        {
            "cell_type": "markdown",
            "metadata": {},
            "source": "In this solution, a separate array is made to store the results of computations so that it can be used at later point of time to bring the overall computation time down."
        },
        {
            "cell_type": "code",
            "execution_count": 43,
            "metadata": {},
            "outputs": [],
            "source": "#Function that is checking the \"memo\" array and writing into it\ndef fib_memo(n, memo):\n    if memo[n] is not None:\n        return memo[n]\n    if n==1 or n==2:\n        result = 1\n    else:\n        result = fib_memo(n-1, memo) + fib_memo(n-2, memo)\n    memo[n] = result\n    return result"
        },
        {
            "cell_type": "code",
            "execution_count": 44,
            "metadata": {},
            "outputs": [],
            "source": "#Function that is initializing the \"memo\" array and calling the fib_mem function\ndef fib_init(n):\n    memo = [None] * (n+1)\n    return fib_memo(n, memo)"
        },
        {
            "cell_type": "code",
            "execution_count": 45,
            "metadata": {},
            "outputs": [
                {
                    "name": "stdout",
                    "output_type": "stream",
                    "text": "The 30th number in the Fibonaaci series is 832040\nThe time taken by the program to run was 8.440017700195312e-05 seconds\n"
                }
            ],
            "source": "time_func(fib_init, 30)"
        },
        {
            "cell_type": "markdown",
            "metadata": {},
            "source": "<h2>Bottom Up approach</h2>"
        },
        {
            "cell_type": "markdown",
            "metadata": {},
            "source": "In the bottom up approach we go on creating the fibonacci series till the nth position and then return nth value. This method also used the previous computations if needed to repeat."
        },
        {
            "cell_type": "code",
            "execution_count": 46,
            "metadata": {},
            "outputs": [],
            "source": "#Function to create the Fibonacci series and storing it in bottom_up array\ndef fib_bottom_up(n):\n    if n==1 or n==2:\n        return 1\n    bottom_up = [None] * (n+1)\n    bottom_up[1] = 1\n    bottom_up[2] = 1\n    for i in range(3, n+1):\n        bottom_up[i] = bottom_up[i-1] + bottom_up[i-2]\n    return bottom_up[n]"
        },
        {
            "cell_type": "code",
            "execution_count": 47,
            "metadata": {},
            "outputs": [
                {
                    "name": "stdout",
                    "output_type": "stream",
                    "text": "The 30th number in the Fibonaaci series is 832040\nThe time taken by the program to run was 0.0005550384521484375 seconds\n"
                }
            ],
            "source": "time_func(fib_bottom_up, 30)"
        },
        {
            "cell_type": "markdown",
            "metadata": {},
            "source": "<h3>Thus the difference in computation times are clearly visible in all the cases viz. Simple Fibonacci function, Memoized solution and Bottom-up solution</h3>"
        }
    ],
    "metadata": {
        "kernelspec": {
            "display_name": "Python 3.6",
            "language": "python",
            "name": "python3"
        },
        "language_info": {
            "codemirror_mode": {
                "name": "ipython",
                "version": 3
            },
            "file_extension": ".py",
            "mimetype": "text/x-python",
            "name": "python",
            "nbconvert_exporter": "python",
            "pygments_lexer": "ipython3",
            "version": "3.6.8"
        }
    },
    "nbformat": 4,
    "nbformat_minor": 1
}